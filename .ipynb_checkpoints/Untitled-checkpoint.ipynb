{
 "cells": [
  {
   "cell_type": "code",
   "execution_count": 9,
   "metadata": {},
   "outputs": [],
   "source": [
    "import ipywidgets as widgets\n",
    "from skimage import io\n",
    "from skimage.color import rgb2grey\n"
   ]
  },
  {
   "cell_type": "code",
   "execution_count": 24,
   "metadata": {},
   "outputs": [
    {
     "data": {
      "application/vnd.jupyter.widget-view+json": {
       "model_id": "e7884b8801eb4d7facaa83a701180cf2",
       "version_major": 2,
       "version_minor": 0
      },
      "text/plain": [
       "Dropdown(description='Image of:', options=(('Scout View', 'photos/img1.jpg'), ('Scout View (large)', 'photos/i…"
      ]
     },
     "metadata": {},
     "output_type": "display_data"
    }
   ],
   "source": [
    "#USER THINGS\n",
    "\n",
    "selector = widgets.Dropdown(\n",
    "    options=[('Scout View', 'photos/img1.jpg'), ('Scout View (large)', 'photos/img2.jpg'), ('Circle', 'photos/img3.jpg')],\n",
    "    value='photos/img1.jpg',\n",
    "    description='Image of:',\n",
    ")\n",
    "\n",
    "display(selector)\n",
    "image = rgb2grey(io.imread(selector.value))\n"
   ]
  }
 ],
 "metadata": {
  "kernelspec": {
   "display_name": "Python 3",
   "language": "python",
   "name": "python3"
  },
  "language_info": {
   "codemirror_mode": {
    "name": "ipython",
    "version": 3
   },
   "file_extension": ".py",
   "mimetype": "text/x-python",
   "name": "python",
   "nbconvert_exporter": "python",
   "pygments_lexer": "ipython3",
   "version": "3.7.6"
  }
 },
 "nbformat": 4,
 "nbformat_minor": 4
}
